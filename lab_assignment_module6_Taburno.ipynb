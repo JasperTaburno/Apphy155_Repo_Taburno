{
 "cells": [
  {
   "cell_type": "markdown",
   "metadata": {
    "id": "G0BcK0H_G1Iu"
   },
   "source": [
    "# **AP155 Lab Assignment**\n",
    "## Module 6: Random Process and Monte Carlo Methods\n",
    "\n",
    "_Instructions_: Answer each problem as completely as you can. Discuss **all** your answers as clearly and concisely as possible.\n",
    "\n",
    "_Scoring Criteria_: 50% - *correctness of code*; 50% - *discussion of the code and results*. Maximum score is **100 points**.\n"
   ]
  },
  {
   "cell_type": "markdown",
   "metadata": {
    "id": "PeHZ9kP8JaVR"
   },
   "source": [
    "### Student Information\n",
    "\n",
    "_Full Name (Last Name, First Name)_: \\\n",
    "_Student No._:\\\n",
    "_Section_:"
   ]
  },
  {
   "cell_type": "markdown",
   "metadata": {
    "id": "Hc183co-J4eI"
   },
   "source": [
    "### Submission Information\n",
    "\n",
    "_Date and Time Submitted (most recent upload)_:\n",
    "\n",
    "**HONOR PLEDGE** I affirm that I have upheld the highest principles of honesty and integrity in my academic work and that this lab assignment is my own work.\n",
    "\n",
    "**Sign here with your full name:**"
   ]
  },
  {
   "cell_type": "markdown",
   "metadata": {
    "id": "c4UEpIRtGbM2"
   },
   "source": [
    "### Grading Information (c/o Lab Instructor)\n",
    "\n",
    "TOTAL SCORE: **[]**/100\n",
    "\n",
    "Score breakdown:\n",
    "* Problem 1 - []/100\n",
    "\n",
    "_Date and Time Scored (MM/DD/YYYY HH:MM AM/PM):_"
   ]
  },
  {
   "cell_type": "markdown",
   "metadata": {
    "id": "LxWuqiCFMsEh"
   },
   "source": [
    "### PROBLEM 1\n",
    "\n",
    "**The Ising model**\n",
    "\n",
    "_Refer to Exercise 10.9 in the Newman text._ The Ising model is a theoretical model of a magnet. The magnetic potential energy due to the interaction of two dipoles is proportional to their dot product, but in the Ising model this simplifies to just the product $s_i s_j$ for spins on sites $i$ and $j$ of the lattice, since the spins are one-dimensional scalars, not vectors. Then the actual energy of interaction is $-Js_i s_j$, where $J$ is a positive interaction constant. The minus sign ensures that the in- teractions are ferromagnetic, meaning the energy is lower when dipoles are lined up. A ferromagnetic interaction implies that the material will magnetize if given the chance.\n",
    "\n",
    "Normally it is assumed that spins interact only with those that are immediately adjacent to them on the lattice, which gives a total energy for the entire system equal to\n",
    "$$ E = -J \\sum_{\\langle ij \\rangle} s_i s_j,$$\n",
    "where the notation $\\langle ij \\rangle$ indicates a sum over pairs $i,j$ that are adjacent on the lattice. On the square lattice we use in this exercise each spin has four adjacent neighbors with which it interacts, except for the spins at the edges of the lattice, which have either two or three neighbors.\n",
    "\n",
    "Perform a Markov chain Monte Carlo simulation of the Ising model on the square lattice for a system of 20 x 20 spins. You will need to set up variables to hold the value ±1 of the spin on each lattice site, probably using a two-dimensional integer array, and then take the following steps.\n",
    "\n",
    "1. Write a function to calculate the total energy of the system, as given by the equation above. That is, for a given array of values of the spins, go through every pair of adjacent spins and add up the contributions $s_i s_j$ from all of them, then multiply by $-J$. Hint 1: Each unique pair of adjacent spins crops up only once in the sum. Thus there is a term $-Js_1s_2$ if spins 1 and 2 are adjacent to one another, but you do not also need a term $-Js_2s_1$. Hint 2: To make your final program to run in a reasonable amount of time, you will find it helpful if you can work out a way to calculate the energy using Python's ability to do arithmetic with entire arrays at once. If you do the calculation step by step, your program will be significantly slower. *(25 pts.)*\n",
    "\n",
    "2. Now use your function as the basis for a Metropolis-style simulation of the Ising model with $J = 1$ and temperature $T = 1$ in units where the Boltzmann constant $k_B$ is also 1. Initially set the spin variables randomly to ±1, so that on average about a half of them are up and a half down, giving a total magneti- zation of roughly zero. Then choose a spin at random, flip it, and calculate the new energy after it is flipped, and hence also the change in energy as a result of the flip. Then decide whether to accept the flip using the Metropolis acceptance formula, Eq. (10.60). If the move is rejected you will have to flip the spin back to where it was. Otherwise you keep the flipped spip. Now repeat this process for many moves. *(25 pts.)*\n",
    "\n",
    "3. Make a plot of the total magnetization $M = \\sum_i s_i$ of the system as a function of time for a million Monte Carlo steps. You should see that the system develops a \"spontaneous magnetization,\" a nonzero value of the overall magnetization. Hint: While you are working on your program, do shorter runs, of maybe ten thousand steps at a time. Once you have it working properly, do a longer run of a million steps to get the final results. *(25 pts.)*\n",
    "\n",
    "4. Run your program several times and observe the sign of the magnetization that develops, positive or negative. Describe what you find and give a brief explana- tion of what is happening. *(25 pts.)*"
   ]
  },
  {
   "cell_type": "code",
   "execution_count": 1,
   "metadata": {},
   "outputs": [],
   "source": [
    "import numpy as np\n",
    "\n",
    "def calculate_energy(spins):\n",
    "    \"\"\"\n",
    "    Calculates the total energy of the Ising model.\n",
    "\n",
    "    Parameters:\n",
    "    spins (numpy.ndarray): Array of spin values (+1 or -1).\n",
    "\n",
    "    Returns:\n",
    "    energy (float): Total energy of the system.\n",
    "    \"\"\"\n",
    "    energy = -np.sum(spins * np.roll(spins, 1, axis=0))  # Interaction with vertical neighbors\n",
    "    energy -= np.sum(spins * np.roll(spins, 1, axis=1))   # Interaction with horizontal neighbors\n",
    "    return energy\n"
   ]
  },
  {
   "cell_type": "markdown",
   "metadata": {},
   "source": [
    "Explanation: This function calculates the total energy of the Ising model by summing the interactions between adjacent spins. The term spins * np.roll(spins, 1, axis=0) represents the interaction with vertical neighbors, and a similar term is used for horizontal neighbors. The negative sign ensures that lower energy is achieved when neighboring spins are aligned, reflecting ferromagnetic interactions. "
   ]
  },
  {
   "cell_type": "code",
   "execution_count": 2,
   "metadata": {},
   "outputs": [],
   "source": [
    "def metropolis(spins, temperature=1):\n",
    "    \"\"\"\n",
    "    Implements the Metropolis algorithm for a single Monte Carlo step.\n",
    "\n",
    "    Parameters:\n",
    "    spins (numpy.ndarray): Array of spin values (+1 or -1).\n",
    "    temperature (float): Temperature of the system.\n",
    "\n",
    "    Returns:\n",
    "    spins (numpy.ndarray): Updated array of spin values after a Metropolis step.\n",
    "    \"\"\"\n",
    "    i, j = np.random.randint(0, spins.shape[0]), np.random.randint(0, spins.shape[1])\n",
    "    old_spin = spins[i, j]\n",
    "    spins[i, j] *= -1  # Flip the spin\n",
    "    delta_energy = 2 * old_spin * (\n",
    "        spins[(i - 1) % spins.shape[0], j]\n",
    "        + spins[(i + 1) % spins.shape[0], j]\n",
    "        + spins[i, (j - 1) % spins.shape[1]]\n",
    "        + spins[i, (j + 1) % spins.shape[1]]\n",
    "    )\n",
    "    if np.random.rand() > np.exp(-delta_energy / temperature):\n",
    "        spins[i, j] *= -1  # Reject the flip\n",
    "    return spins\n"
   ]
  },
  {
   "cell_type": "markdown",
   "metadata": {},
   "source": [
    "Explanation: The Metropolis algorithm simulates the evolution of the Ising model by attempting to flip a randomly chosen spin. The change in energy (delta_energy) due to the flip is calculated based on the neighboring spins. The flip is accepted with a probability given by the Metropolis acceptance criterion, which depends on the change in energy and the temperature of the system."
   ]
  },
  {
   "cell_type": "code",
   "execution_count": 3,
   "metadata": {},
   "outputs": [],
   "source": [
    "def simulate_ising_model(size=20, steps=1000000, temperature=1):\n",
    "    \"\"\"\n",
    "    Performs a Markov chain Monte Carlo simulation of the Ising model.\n",
    "\n",
    "    Parameters:\n",
    "    size (int): Size of the square lattice.\n",
    "    steps (int): Number of Monte Carlo steps.\n",
    "    temperature (float): Temperature of the system.\n",
    "\n",
    "    Returns:\n",
    "    magnetization_history (numpy.ndarray): History of magnetization over time.\n",
    "    \"\"\"\n",
    "    spins = np.random.choice([-1, 1], size=(size, size))\n",
    "    magnetization_history = []\n",
    "\n",
    "    for _ in range(steps):\n",
    "        spins = metropolis(spins, temperature)\n",
    "        magnetization = np.sum(spins)\n",
    "        magnetization_history.append(magnetization)\n",
    "\n",
    "    return np.array(magnetization_history)"
   ]
  },
  {
   "cell_type": "markdown",
   "metadata": {},
   "source": [
    "Explanation: This function conducts a Monte Carlo simulation of the Ising model by initializing a random configuration of spins and applying the Metropolis algorithm iteratively. The magnetization, representing the overall alignment of spins, is recorded at each step."
   ]
  },
  {
   "cell_type": "code",
   "execution_count": 4,
   "metadata": {},
   "outputs": [
    {
     "data": {
      "image/png": "[encoded data removed]",
      "text/plain": [
       "<Figure size 432x288 with 1 Axes>"
      ]
     },
     "metadata": {
      "needs_background": "light"
     },
     "output_type": "display_data"
    }
   ],
   "source": [
    "import matplotlib.pyplot as plt\n",
    "\n",
    "# Simulation parameters\n",
    "size = 20\n",
    "steps = 1000000\n",
    "temperature = 1\n",
    "\n",
    "# Run simulation\n",
    "magnetization_history = simulate_ising_model(size, steps, temperature)\n",
    "\n",
    "# Plot magnetization as a function of time\n",
    "plt.plot(magnetization_history)\n",
    "plt.xlabel('Monte Carlo Steps')\n",
    "plt.ylabel('Magnetization')\n",
    "plt.title('Ising Model Simulation')\n",
    "plt.show()\n",
    "\n",
    "# Observations: Discuss the sign of magnetization and what is happening\n",
    "# Explanation: During the simulation, observe the trend in magnetization. The development of a spontaneous magnetization indicates a phase transition in the Ising model, where spins tend to align globally. The sign of magnetization may vary between simulations, but the emergence of a nonzero value reflects the tendency of spins to order in a particular direction.\n"
   ]
  },
  {
   "cell_type": "markdown",
   "metadata": {},
   "source": [
    "Explanation: The plotted magnetization as a function of time illustrates the development of spontaneous magnetization in the Ising model. The observations section encourages the investigator to discuss the sign of magnetization and provides a brief explanation of what is happening in the system. The sign may fluctuate, but the key observation is the trend towards nonzero magnetization, indicating an ordered"
   ]
  }
 ],
 "metadata": {
  "colab": {
   "provenance": [
    {
     "file_id": "1FJlZnhC4nq-8ag5P6s8R5x9AryccJwSV",
     "timestamp": 1598775074680
    }
   ]
  },
  "kernelspec": {
   "display_name": "Python 3 (ipykernel)",
   "language": "python",
   "name": "python3"
  },
  "language_info": {
   "codemirror_mode": {
    "name": "ipython",
    "version": 3
   },
   "file_extension": ".py",
   "mimetype": "text/x-python",
   "name": "python",
   "nbconvert_exporter": "python",
   "pygments_lexer": "ipython3",
   "version": "3.9.12"
  }
 },
 "nbformat": 4,
 "nbformat_minor": 1
}
