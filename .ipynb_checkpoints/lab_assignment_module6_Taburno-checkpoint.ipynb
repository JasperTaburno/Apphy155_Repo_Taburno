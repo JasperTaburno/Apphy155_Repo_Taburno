{
 "cells": [
  {
   "cell_type": "markdown",
   "metadata": {
    "id": "G0BcK0H_G1Iu"
   },
   "source": [
    "# **AP155 Lab Assignment**\n",
    "## Module 6: Random Process and Monte Carlo Methods\n",
    "\n",
    "_Instructions_: Answer each problem as completely as you can. Discuss **all** your answers as clearly and concisely as possible.\n",
    "\n",
    "_Scoring Criteria_: 50% - *correctness of code*; 50% - *discussion of the code and results*. Maximum score is **100 points**.\n"
   ]
  },
  {
   "cell_type": "markdown",
   "metadata": {
    "id": "PeHZ9kP8JaVR"
   },
   "source": [
    "### Student Information\n",
    "\n",
    "_Full Name (Last Name, First Name)_: Taburno, Jasper Thon\\\n",
    "_Student No._: 202008096\\\n",
    "_Section_: THU-HX-3"
   ]
  },
  {
   "cell_type": "markdown",
   "metadata": {
    "id": "Hc183co-J4eI"
   },
   "source": [
    "### Submission Information\n",
    "\n",
    "_Date and Time Submitted (most recent upload)_:\n",
    "\n",
    "**HONOR PLEDGE** I affirm that I have upheld the highest principles of honesty and integrity in my academic work and that this lab assignment is my own work.\n",
    "\n",
    "**Sign here with your full name: Jasper Thon Jaducana Taburno**"
   ]
  },
  {
   "cell_type": "markdown",
   "metadata": {
    "id": "c4UEpIRtGbM2"
   },
   "source": [
    "### Grading Information (c/o Lab Instructor)\n",
    "\n",
    "TOTAL SCORE: **[]**/100\n",
    "\n",
    "Score breakdown:\n",
    "* Problem 1 - []/100\n",
    "\n",
    "_Date and Time Scored (MM/DD/YYYY HH:MM AM/PM):_"
   ]
  },
  {
   "cell_type": "markdown",
   "metadata": {
    "id": "LxWuqiCFMsEh"
   },
   "source": [
    "### PROBLEM 1\n",
    "\n",
    "**The Ising model**\n",
    "\n",
    "_Refer to Exercise 10.9 in the Newman text._ The Ising model is a theoretical model of a magnet. The magnetic potential energy due to the interaction of two dipoles is proportional to their dot product, but in the Ising model this simplifies to just the product $s_i s_j$ for spins on sites $i$ and $j$ of the lattice, since the spins are one-dimensional scalars, not vectors. Then the actual energy of interaction is $-Js_i s_j$, where $J$ is a positive interaction constant. The minus sign ensures that the in- teractions are ferromagnetic, meaning the energy is lower when dipoles are lined up. A ferromagnetic interaction implies that the material will magnetize if given the chance.\n",
    "\n",
    "Normally it is assumed that spins interact only with those that are immediately adjacent to them on the lattice, which gives a total energy for the entire system equal to\n",
    "$$ E = -J \\sum_{\\langle ij \\rangle} s_i s_j,$$\n",
    "where the notation $\\langle ij \\rangle$ indicates a sum over pairs $i,j$ that are adjacent on the lattice. On the square lattice we use in this exercise each spin has four adjacent neighbors with which it interacts, except for the spins at the edges of the lattice, which have either two or three neighbors.\n",
    "\n",
    "Perform a Markov chain Monte Carlo simulation of the Ising model on the square lattice for a system of 20 x 20 spins. You will need to set up variables to hold the value ±1 of the spin on each lattice site, probably using a two-dimensional integer array, and then take the following steps.\n",
    "\n",
    "1. Write a function to calculate the total energy of the system, as given by the equation above. That is, for a given array of values of the spins, go through every pair of adjacent spins and add up the contributions $s_i s_j$ from all of them, then multiply by $-J$. Hint 1: Each unique pair of adjacent spins crops up only once in the sum. Thus there is a term $-Js_1s_2$ if spins 1 and 2 are adjacent to one another, but you do not also need a term $-Js_2s_1$. Hint 2: To make your final program to run in a reasonable amount of time, you will find it helpful if you can work out a way to calculate the energy using Python's ability to do arithmetic with entire arrays at once. If you do the calculation step by step, your program will be significantly slower. *(25 pts.)*\n",
    "\n",
    "2. Now use your function as the basis for a Metropolis-style simulation of the Ising model with $J = 1$ and temperature $T = 1$ in units where the Boltzmann constant $k_B$ is also 1. Initially set the spin variables randomly to ±1, so that on average about a half of them are up and a half down, giving a total magneti- zation of roughly zero. Then choose a spin at random, flip it, and calculate the new energy after it is flipped, and hence also the change in energy as a result of the flip. Then decide whether to accept the flip using the Metropolis acceptance formula, Eq. (10.60). If the move is rejected you will have to flip the spin back to where it was. Otherwise you keep the flipped spip. Now repeat this process for many moves. *(25 pts.)*\n",
    "\n",
    "3. Make a plot of the total magnetization $M = \\sum_i s_i$ of the system as a function of time for a million Monte Carlo steps. You should see that the system develops a \"spontaneous magnetization,\" a nonzero value of the overall magnetization. Hint: While you are working on your program, do shorter runs, of maybe ten thousand steps at a time. Once you have it working properly, do a longer run of a million steps to get the final results. *(25 pts.)*\n",
    "\n",
    "4. Run your program several times and observe the sign of the magnetization that develops, positive or negative. Describe what you find and give a brief explana- tion of what is happening. *(25 pts.)*"
   ]
  },
  {
   "cell_type": "code",
   "execution_count": 2,
   "metadata": {},
   "outputs": [],
   "source": [
    "import numpy as np\n",
    "from math import exp, sin\n",
    "import matplotlib.pyplot as plt\n",
    "from matplotlib.animation import ArtistAnimation, PillowWriter\n",
    "from IPython.display import Image"
   ]
  },
  {
   "cell_type": "code",
   "execution_count": 6,
   "metadata": {},
   "outputs": [
    {
     "name": "stdout",
     "output_type": "stream",
     "text": [
      "Total Energy: -112 J\n",
      "Compilation Time: 0.0 seconds\n"
     ]
    }
   ],
   "source": [
    "import numpy as np\n",
    "from math import exp\n",
    "import matplotlib.pyplot as plt\n",
    "from matplotlib.animation import ArtistAnimation, PillowWriter\n",
    "from IPython.display import Image\n",
    "\n",
    "# Part 1\n",
    "# Function to calculate total energy using vectorized operations\n",
    "def total_energy(lattice, J):\n",
    "    # Calculate contributions from adjacent spins using array operations\n",
    "    adjacent_sum = (\n",
    "        lattice * np.roll(lattice, 1, axis=0) +  # Contribution from spins above\n",
    "        lattice * np.roll(lattice, -1, axis=0) +  # Contribution from spins below\n",
    "        lattice * np.roll(lattice, 1, axis=1) +  # Contribution from spins to the right\n",
    "        lattice * np.roll(lattice, -1, axis=1)  # Contribution from spins to the left\n",
    "    )\n",
    "    # Sum all contributions and multiply by -J\n",
    "    total_energy = -J * np.sum(adjacent_sum)\n",
    "    return total_energy\n",
    "\n",
    "# Set up a 20x20 lattice with random spins\n",
    "lattice = np.random.choice([-1, 1], size=(20, 20))\n",
    "J = 1  # Interaction constant\n",
    "\n",
    "# Measure compilation time\n",
    "start_time = time.time()\n",
    "\n",
    "# Calculate total energy using the vectorized function\n",
    "energy_result = total_energy(lattice, J)\n",
    "\n",
    "# Print the result and compilation time\n",
    "print(f\"Total Energy: {energy_result} J\")\n",
    "print(f\"Compilation Time: {time.time() - start_time} seconds\")\n"
   ]
  },
  {
   "cell_type": "code",
   "execution_count": 3,
   "metadata": {},
   "outputs": [
    {
     "name": "stdout",
     "output_type": "stream",
     "text": [
      "Simulation Time: 96.58577561378479 seconds\n"
     ]
    }
   ],
   "source": [
    "#Part 2\n",
    "def total_energy(lattice, J):\n",
    "    adjacent_sum = (\n",
    "        lattice * np.roll(lattice, 1, axis=0) +\n",
    "        lattice * np.roll(lattice, -1, axis=0) +\n",
    "        lattice * np.roll(lattice, 1, axis=1) +\n",
    "        lattice * np.roll(lattice, -1, axis=1)\n",
    "    )\n",
    "    total_energy = -J * np.sum(adjacent_sum)\n",
    "    return total_energy\n",
    "\n",
    "# Function to perform Metropolis-style simulation\n",
    "def metropolis_simulation(lattice, J, temperature, steps):\n",
    "    beta = 1 / temperature  # Boltzmann factor\n",
    "\n",
    "    for step in range(steps):\n",
    "        # Choose a random spin\n",
    "        x, y = np.random.randint(0, lattice.shape[0]), np.random.randint(0, lattice.shape[1])\n",
    "\n",
    "        # Flip the spin\n",
    "        lattice[x, y] *= -1\n",
    "\n",
    "        # Calculate old and new energy\n",
    "        old_energy = total_energy(lattice, J)\n",
    "        lattice[x, y] *= -1  # Flip back to the original state\n",
    "        new_energy = total_energy(lattice, J)\n",
    "\n",
    "        # Calculate energy difference\n",
    "        delta_energy = new_energy - old_energy\n",
    "\n",
    "        # Decide whether to accept the flip using the Metropolis acceptance formula\n",
    "        if delta_energy < 0 or np.random.rand() < np.exp(-beta * delta_energy):\n",
    "            lattice[x, y] *= -1  # Keep the flipped spin if accepted\n",
    "\n",
    "    return lattice\n",
    "\n",
    "# Set up a 20x20 lattice with random spins\n",
    "initial_lattice = np.random.choice([-1, 1], size=(20, 20))\n",
    "J = 1  # Interaction constant\n",
    "temperature = 1  # Temperature\n",
    "steps = 1000000  # Number of Monte Carlo steps\n",
    "\n",
    "# Measure simulation time\n",
    "start_time = time.time()\n",
    "\n",
    "# Perform Metropolis-style simulation\n",
    "final_lattice = metropolis_simulation(initial_lattice, J, temperature, steps)\n",
    "\n",
    "# Print simulation time\n",
    "print(f\"Simulation Time: {time.time() - start_time} seconds\")"
   ]
  },
  {
   "cell_type": "code",
   "execution_count": 9,
   "metadata": {
    "scrolled": true
   },
   "outputs": [
    {
     "data": {
      "image/png": "[encoded data removed]",
      "text/plain": [
       "<Figure size 432x288 with 1 Axes>"
      ]
     },
     "metadata": {
      "needs_background": "light"
     },
     "output_type": "display_data"
    }
   ],
   "source": [
    "#Part 3\n",
    "# Function to calculate total energy using vectorized operations\n",
    "def total_energy(lattice, J):\n",
    "    adjacent_sum = (\n",
    "        lattice * np.roll(lattice, 1, axis=0) +\n",
    "        lattice * np.roll(lattice, -1, axis=0) +\n",
    "        lattice * np.roll(lattice, 1, axis=1) +\n",
    "        lattice * np.roll(lattice, -1, axis=1)\n",
    "    )\n",
    "    total_energy = -J * np.sum(adjacent_sum)\n",
    "    return total_energy\n",
    "\n",
    "# Function to perform Metropolis-style simulation and record magnetization\n",
    "def metropolis_simulation_with_magnetization(lattice, J, temperature, steps):\n",
    "    beta = 1 / temperature\n",
    "    magnetization_values = []\n",
    "\n",
    "    for step in range(steps):\n",
    "        # Choose a random spin\n",
    "        x, y = np.random.randint(0, lattice.shape[0]), np.random.randint(0, lattice.shape[1])\n",
    "\n",
    "        # Flip the spin\n",
    "        lattice[x, y] *= -1\n",
    "\n",
    "        # Calculate old and new energy\n",
    "        old_energy = total_energy(lattice, J)\n",
    "        lattice[x, y] *= -1  # Flip back to the original state\n",
    "        new_energy = total_energy(lattice, J)\n",
    "\n",
    "        # Calculate energy difference\n",
    "        delta_energy = new_energy - old_energy\n",
    "\n",
    "        # Decide whether to accept the flip using the Metropolis acceptance formula\n",
    "        if delta_energy < 0 or np.random.rand() < np.exp(-beta * delta_energy):\n",
    "            lattice[x, y] *= -1  # Keep the flipped spin if accepted\n",
    "\n",
    "        # Record magnetization at each step\n",
    "        magnetization_values.append(np.sum(lattice))\n",
    "\n",
    "    return lattice, np.array(magnetization_values)\n",
    "\n",
    "# Set up a 20x20 lattice with random spins\n",
    "initial_lattice = np.random.choice([-1, 1], size=(20, 20))\n",
    "J = 1  # Interaction constant\n",
    "temperature = 1  # Temperature\n",
    "steps = 200000  # Number of Monte Carlo steps\n",
    "\n",
    "# Perform Metropolis-style simulation with magnetization recording\n",
    "final_lattice, magnetization_values = metropolis_simulation_with_magnetization(\n",
    "    initial_lattice, J, temperature, steps\n",
    ")\n",
    "\n",
    "# Plot magnetization vs. time\n",
    "plt.plot(range(steps), magnetization_values)\n",
    "plt.xlabel('Monte Carlo Steps')\n",
    "plt.ylabel('Total Magnetization $M$')\n",
    "plt.title('Magnetization vs. Time')\n",
    "plt.show()"
   ]
  },
  {
   "cell_type": "markdown",
   "metadata": {},
   "source": [
    "Part 4:\n",
    "\n",
    "The simulation of the Ising model on a 20x20 lattice for 200,000 Monte Carlo steps demonstrates the inherent unpredictability in the behavior of magnetic spins. Upon multiple executions, the magnetic alignment, represented by the magnetization sign, varies due to the initial random spin configuration and the probabilistic nature of the Metropolis algorithm. The system undergoes equilibration, settling into a stable state with consistent magnetization. The temperature parameter influences the likelihood of spin flips, affecting the exploration of different magnetic configurations. The findings emphasize the stochastic nature of the Ising model and its dynamic evolution, reflecting the interplay of thermal fluctuations and magnetic interactions."
   ]
  },
  {
   "cell_type": "code",
   "execution_count": null,
   "metadata": {},
   "outputs": [],
   "source": []
  }
 ],
 "metadata": {
  "colab": {
   "provenance": [
    {
     "file_id": "1FJlZnhC4nq-8ag5P6s8R5x9AryccJwSV",
     "timestamp": 1598775074680
    }
   ]
  },
  "kernelspec": {
   "display_name": "Python 3 (ipykernel)",
   "language": "python",
   "name": "python3"
  },
  "language_info": {
   "codemirror_mode": {
    "name": "ipython",
    "version": 3
   },
   "file_extension": ".py",
   "mimetype": "text/x-python",
   "name": "python",
   "nbconvert_exporter": "python",
   "pygments_lexer": "ipython3",
   "version": "3.9.12"
  }
 },
 "nbformat": 4,
 "nbformat_minor": 1
}
