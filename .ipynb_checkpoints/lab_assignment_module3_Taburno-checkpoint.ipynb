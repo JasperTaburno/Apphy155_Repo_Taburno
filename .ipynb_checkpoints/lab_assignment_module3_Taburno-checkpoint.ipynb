{
 "cells": [
  {
   "cell_type": "markdown",
   "metadata": {
    "id": "G0BcK0H_G1Iu"
   },
   "source": [
    "# **AP155 Lab Assignment**\n",
    "## Module 3: Fourier Transforms\n",
    "\n",
    "_Instructions_: Answer each problem as completely as you can. Discuss **all** your answers as clearly and concisely as possible.\n",
    "\n",
    "_Scoring Criteria_: 50% - *correctness of code*; 50% - *discussion of the code and results*. Maximum score is **100 points**.\n"
   ]
  },
  {
   "cell_type": "markdown",
   "metadata": {
    "id": "PeHZ9kP8JaVR"
   },
   "source": [
    "### Student Information\n",
    "\n",
    "_Full Name (Last Name, First Name)_: Taburno, Jasper Thon\\\n",
    "_Student No._: 202008096\\\n",
    "_Section_: THU-HX-3"
   ]
  },
  {
   "cell_type": "markdown",
   "metadata": {
    "id": "Hc183co-J4eI"
   },
   "source": [
    "### Submission Information\n",
    "\n",
    "_Date and Time Submitted (most recent upload)_:\n",
    "\n",
    "**HONOR PLEDGE** I affirm that I have upheld the highest principles of honesty and integrity in my academic work and that this lab assignment is my own work.\n",
    "\n",
    "**Sign here with your full name:** Jasper Thon Jaducana Taburno"
   ]
  },
  {
   "cell_type": "markdown",
   "metadata": {
    "id": "MFCyuui5gQfO"
   },
   "source": [
    "### Grading Information (c/o Lab Instructor)\n",
    "\n",
    "TOTAL SCORE: **[]**/100\n",
    "\n",
    "Score breakdown:\n",
    "* Problem 1 - []/30\n",
    "* Problem 2 - []/70\n",
    "\n",
    "_Date and Time Scored (MM/DD/YYYY HH:MM AM/PM):_"
   ]
  },
  {
   "cell_type": "markdown",
   "metadata": {
    "id": "LxWuqiCFMsEh"
   },
   "source": [
    "### PROBLEM 1\n",
    "**Fourier transform of a simple function**\n",
    "\n",
    "1. Calculate the coefficients in the discrete Fourier transforms of the modulated sine wave $y_n = \\sin(\\pi n/N) sin(20\\pi n/N)$ sampled at $N = 1000$ evenly spaced points using your own user-defined function. *(15 pts.)*\n",
    "\n",
    "2. Make a plot of their amplitudes similar to the plot shown in Fig. 7.4 of the Newman text. *(15 pts.)*\n"
   ]
  },
  {
   "cell_type": "code",
   "execution_count": 1,
   "metadata": {
    "id": "hMqWOsbIMoUh"
   },
   "outputs": [
    {
     "data": {
      "image/png": "[encoded data removed]",
      "text/plain": [
       "<Figure size 432x288 with 1 Axes>"
      ]
     },
     "metadata": {
      "needs_background": "light"
     },
     "output_type": "display_data"
    }
   ],
   "source": [
    "import numpy as np\n",
    "import matplotlib.pyplot as plt\n",
    "\n",
    "def modulated_sine_wave(N):\n",
    "    n = np.arange(N)\n",
    "    y = np.sin(np.pi * n / N) * np.sin(20 * np.pi * n / N)\n",
    "    return y\n",
    "\n",
    "def calculate_fourier_transform(y):\n",
    "    N = len(y)\n",
    "    fft_result = np.fft.fft(y)\n",
    "    fft_amplitudes = np.abs(fft_result) / N  # Normalize by dividing by N\n",
    "    return fft_amplitudes\n",
    "\n",
    "def plot_amplitudes(fft_amplitudes):\n",
    "    plt.plot(fft_amplitudes[:N // 2])  # Plot only the positive frequencies\n",
    "    plt.title(\"Amplitudes of Fourier Transform\")\n",
    "    plt.xlabel(\"Frequency\")\n",
    "    plt.ylabel(\"Amplitude\")\n",
    "    plt.show()\n",
    "\n",
    "# Parameters\n",
    "N = 1000\n",
    "\n",
    "# Step 1: Calculate the coefficients in the discrete Fourier transform\n",
    "y = modulated_sine_wave(N)\n",
    "fft_amplitudes = calculate_fourier_transform(y)\n",
    "\n",
    "# Step 2: Make a plot of the amplitudes\n",
    "plot_amplitudes(fft_amplitudes)"
   ]
  },
  {
   "cell_type": "markdown",
   "metadata": {
    "id": "kBX9EyMLOnXj"
   },
   "source": [
    "### PROBLEM 2\n",
    "\n",
    "**Fourier filtering**\n",
    "\n",
    "For this problem, you will use data from a text file called $\\tt dow.txt$. It contains the daily closing value for each business day from late 2006 until the end of 2010 of the Dow Jones Industrial Average, which is a measure of average prices on the US stock market.\n",
    "\n",
    "First, you need to make a copy of the file $\\tt dow.txt$ and save it to a folder in your **own Google Drive**. This file is available from the AP155 Course Pack Google Drive (in the Course Pack > Datasets folder).\n",
    "\n",
    "The code cells below will (1) mount Google Drive and (2) load the data from your Google Drive. Follow the instructions below to load the data. Then, do the following:\n",
    "\n",
    "1. Plot the data on a graph. *(10 pts.)*\n",
    "\n",
    "2. Calculate the coefficients of the discrete Fourier transform of the data using the function $\\tt rfft$ from numpy's $\\tt fft$ library, which produces an array of $\\frac{1}{2}N +1$ complex numbers. *(20 pts.)*\n",
    "\n",
    "3. Now set all but the first 10% of the elements of this array to zero (i.e., set the last 90% to zero but keep the values of the first 10%). *(10 pts.)*\n",
    "\n",
    "4. Calculate the inverse Fourier transform of the resulting array, zeros and all, using the function $\\tt irfft$, and plot it on the same graph as the original data. You may need to vary the colors of the two curves to make sure they both show up on the graph. Comment on what you see. What is happening when you set the Fourier coefficients to zero? *(30 pts.)*"
   ]
  },
  {
   "cell_type": "markdown",
   "metadata": {
    "id": "RojX8ZfTVmpX"
   },
   "source": [
    "Mount the Google Drive where you saved the file $\\tt dow.txt$.\n",
    "\n",
    "When you run this cell, you will be asked to sign in to your Google account and you will get an authorization code. Paste the code on the provided cell to mount the Google Drive."
   ]
  },
  {
   "cell_type": "code",
   "execution_count": null,
   "metadata": {
    "id": "Sy1jiaAmfsFJ"
   },
   "outputs": [],
   "source": [
    "from google.colab import drive\n",
    "drive.mount(\"/content/drive\")"
   ]
  },
  {
   "cell_type": "markdown",
   "metadata": {
    "id": "f3FFlS0GXhq4"
   },
   "source": [
    "Run this command to list the directories in your Google Drive and check that the mount was successful."
   ]
  },
  {
   "cell_type": "code",
   "execution_count": null,
   "metadata": {
    "id": "2XTcWnSPgDus"
   },
   "outputs": [],
   "source": [
    "!ls drive/My\\ Drive"
   ]
  },
  {
   "cell_type": "markdown",
   "metadata": {
    "id": "cPG2DRwEXqFd"
   },
   "source": [
    "Define the directory path to the location of the file $\\tt dow.txt$, i.e. if it is in a folder named \"AP155\" under My Drive, then the file path will be \"/content/drive/My Drive/AP155\". Change the string variable in the code cell below, as needed:"
   ]
  },
  {
   "cell_type": "code",
   "execution_count": null,
   "metadata": {
    "id": "H61BR1gEXqX7"
   },
   "outputs": [],
   "source": [
    "file_path = \"/content/drive/My Drive/AP155/\""
   ]
  },
  {
   "cell_type": "markdown",
   "metadata": {
    "id": "IZLbcI2JXrzX"
   },
   "source": [
    "Use numpy's $\\tt loadtxt$ function ([documentation](https://numpy.org/doc/stable/reference/generated/numpy.loadtxt.html)) to load the $\\tt dow.txt$ file and save the data into a numpy array named $\\tt dow$."
   ]
  },
  {
   "cell_type": "code",
   "execution_count": null,
   "metadata": {
    "id": "hsZtgnaNXqrw"
   },
   "outputs": [],
   "source": [
    "import numpy as np\n",
    "dow = np.loadtxt(file_path+\"dow.txt\")"
   ]
  },
  {
   "cell_type": "markdown",
   "metadata": {
    "id": "vCatbEiLY2iT"
   },
   "source": [
    "Print out the first 10 elements of the array $\\tt dow$. Check that you get the ff. output:\n",
    "```\n",
    "array([12121.71, 12136.44, 12226.73, 12221.93, 12194.13, 12283.85, 12331.6 , 12309.25, 12278.41, 12307.48])\n",
    "```"
   ]
  },
  {
   "cell_type": "code",
   "execution_count": null,
   "metadata": {
    "colab": {
     "base_uri": "https://localhost:8080/",
     "height": 51
    },
    "executionInfo": {
     "elapsed": 1031,
     "status": "ok",
     "timestamp": 1598875209156,
     "user": {
      "displayName": "Reinabelle Reyes",
      "photoUrl": "",
      "userId": "05945971214006335376"
     },
     "user_tz": -480
    },
    "id": "EWfggllVY246",
    "outputId": "82261621-7a57-48e5-a3eb-f4e327cfa59c"
   },
   "outputs": [
    {
     "data": {
      "text/plain": [
       "array([12121.71, 12136.44, 12226.73, 12221.93, 12194.13, 12283.85,\n",
       "       12331.6 , 12309.25, 12278.41, 12307.48])"
      ]
     },
     "execution_count": 7,
     "metadata": {
      "tags": []
     },
     "output_type": "execute_result"
    }
   ],
   "source": [
    "dow[0:10]"
   ]
  },
  {
   "cell_type": "markdown",
   "metadata": {
    "id": "OqpE1nAXZc2-"
   },
   "source": [
    "Now you can start to write code for this problem!"
   ]
  },
  {
   "cell_type": "code",
   "execution_count": null,
   "metadata": {
    "id": "R0g43FSaZdBz"
   },
   "outputs": [],
   "source": []
  }
 ],
 "metadata": {
  "colab": {
   "provenance": [
    {
     "file_id": "1FJlZnhC4nq-8ag5P6s8R5x9AryccJwSV",
     "timestamp": 1598775074680
    }
   ]
  },
  "kernelspec": {
   "display_name": "Python 3 (ipykernel)",
   "language": "python",
   "name": "python3"
  },
  "language_info": {
   "codemirror_mode": {
    "name": "ipython",
    "version": 3
   },
   "file_extension": ".py",
   "mimetype": "text/x-python",
   "name": "python",
   "nbconvert_exporter": "python",
   "pygments_lexer": "ipython3",
   "version": "3.9.12"
  }
 },
 "nbformat": 4,
 "nbformat_minor": 1
}
