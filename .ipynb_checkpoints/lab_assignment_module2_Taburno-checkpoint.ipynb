{
 "cells": [
  {
   "cell_type": "markdown",
   "metadata": {
    "id": "G0BcK0H_G1Iu"
   },
   "source": [
    "# **AP155 Lab Assignment**\n",
    "## Module 2: Solution of Linear and Nonlinear Equations\n",
    "\n",
    "_Instructions_: Answer each problem as completely as you can. Discuss **all** your answers as clearly and concisely as possible.\n",
    "\n",
    "_Scoring Criteria_: 50% - *correctness of code*; 50% - *discussion of the code and results*. Maximum score is **100 points**.\n",
    "\n"
   ]
  },
  {
   "cell_type": "markdown",
   "metadata": {
    "id": "PeHZ9kP8JaVR"
   },
   "source": [
    "### Student Information\n",
    "\n",
    "_Full Name (Last Name, First Name)_: Taburno, Jasper Thon\\\n",
    "_Student No._: 202008096\\\n",
    "_Section_: THU-HX-3"
   ]
  },
  {
   "cell_type": "markdown",
   "metadata": {
    "id": "Hc183co-J4eI"
   },
   "source": [
    "### Submission Information\n",
    "\n",
    "_Date and Time Submitted (most recent upload)_:\n",
    "\n",
    "**HONOR PLEDGE** I affirm that I have upheld the highest principles of honesty and integrity in my academic work and that this lab assignment is my own work.\n",
    "\n",
    "**Sign here with your full name:** Jasper Thon Jaducana Taburno"
   ]
  },
  {
   "cell_type": "markdown",
   "metadata": {
    "id": "4LUwfsfMBmvd"
   },
   "source": [
    "### Grading Information (c/o Lab Instructor)\n",
    "\n",
    "TOTAL SCORE: **XX**/100\n",
    "\n",
    "Score breakdown:\n",
    "* Problem 1 - 30/30\n",
    "* Problem 2 - 30/30\n",
    "* Problem 3 - 40/40\n",
    "\n",
    "<span style=\"color:blue\"> Very good </span>"
   ]
  },
  {
   "cell_type": "markdown",
   "metadata": {},
   "source": [
    "### Import Packages"
   ]
  },
  {
   "cell_type": "code",
   "execution_count": 41,
   "metadata": {},
   "outputs": [],
   "source": [
    "import numpy as np\n",
    "from numpy import array\n",
    "from numpy.linalg import eigh"
   ]
  },
  {
   "cell_type": "markdown",
   "metadata": {},
   "source": [
    "### PROBLEM 1\n",
    "\n",
    "**Solve for eigenvalues and eigenvectors of a symmetric matrix**\n",
    "\n",
    "\n"
   ]
  },
  {
   "cell_type": "markdown",
   "metadata": {},
   "source": [
    "1. Use numpy's $\\tt linalg$ package to find the eigenvalues and eigenvectors of the ff. symmetrix matrix *(15 pts.)*:\n",
    "\n",
    "$ \\begin{equation}\n",
    "{\\bf A} =\n",
    "\\begin{pmatrix}\n",
    "8 & -2 & -20 \\\\\n",
    "-2 & -3 & -9 \\\\\n",
    "-20 & -9 & -3\n",
    "\\end{pmatrix} \\end{equation} $"
   ]
  },
  {
   "cell_type": "code",
   "execution_count": 4,
   "metadata": {
    "id": "GABjwlXCR97i",
    "scrolled": false
   },
   "outputs": [],
   "source": [
    "# Define the symmetrix matrix A\n",
    "A = np.array([\n",
    "    [8, -2, -20],\n",
    "    [-2, -3, -9],\n",
    "    [-20, -9, -3]\n",
    "    ])\n",
    "\n",
    "# Making use of the eigh function from linalg package to find the eigenvalues and eigenvectors.\n",
    "# This function computes and returns the eigenvalues and eigenvectors of a symmetric matrix\n",
    "eigenvalues, eigenvectors = np.linalg.eigh(A)"
   ]
  },
  {
   "cell_type": "markdown",
   "metadata": {},
   "source": [
    "\n",
    "2. Check your answer numerically; that is, check that $\\bf AV = VD$, where the $N$ x $N$ matrix $\\bf V$ has the eigenvectors as its columns and $\\bf D$ is the diagonal matrix with the eigenvalues $\\lambda_i$ as its diagonal entries. *(15 pts.)*"
   ]
  },
  {
   "cell_type": "code",
   "execution_count": 6,
   "metadata": {},
   "outputs": [
    {
     "name": "stdout",
     "output_type": "stream",
     "text": [
      "Matrix A:\n",
      "[[  8  -2 -20]\n",
      " [ -2  -3  -9]\n",
      " [-20  -9  -3]]\n",
      "\n",
      "Eigenvalues:\n",
      "[-21.99606195   0.16021522  23.83584674]\n",
      "\n",
      "Eigenvectors:\n",
      "[[ 0.52496527  0.36793396 -0.76748685]\n",
      " [ 0.40892672 -0.89987151 -0.15169114]\n",
      " [ 0.74645187  0.2342133   0.62285932]]\n",
      "\n",
      "Diagonal Matrix D:\n",
      "[[-21.99606195   0.           0.        ]\n",
      " [  0.           0.16021522   0.        ]\n",
      " [  0.           0.          23.83584674]]\n",
      "\n",
      "AV:\n",
      "[[-11.54716868   0.05894862 -18.29369893]\n",
      " [ -8.99477756  -0.14417311  -3.61568676]\n",
      " [-16.4190016    0.03752454  14.8463793 ]]\n",
      "\n",
      "VD:\n",
      "[[-11.54716868   0.05894862 -18.29369893]\n",
      " [ -8.99477756  -0.14417311  -3.61568676]\n",
      " [-16.4190016    0.03752454  14.8463793 ]]\n",
      "\n",
      "Numerical Verification (AV ≈ VD): True\n"
     ]
    }
   ],
   "source": [
    "# Constructing and storing the diagonal matrix into D using the diag method.\n",
    "D = np.diag(eigenvalues)\n",
    "\n",
    "# Here we use the dot method (dot product) to verify the eigenvalue equation: AV = VD\n",
    "lhs = np.dot(A, eigenvectors)\n",
    "rhs = np.dot(eigenvectors, D)\n",
    "\n",
    "# Check if the two sides are approximately equal using the np.allclose method\n",
    "num_ver = np.allclose(lhs, rhs)\n",
    "\n",
    "# Printing all the variables for a better perspective\n",
    "print(\"Matrix A:\")\n",
    "print(A)\n",
    "print(\"\\nEigenvalues:\")\n",
    "print(eigenvalues)\n",
    "print(\"\\nEigenvectors:\")\n",
    "print(eigenvectors)\n",
    "print(\"\\nDiagonal Matrix D:\")\n",
    "print(D)\n",
    "print(\"\\nAV:\")\n",
    "print(lhs)\n",
    "print(\"\\nVD:\")\n",
    "print(rhs)\n",
    "print(\"\\nNumerical Verification (AV ≈ VD):\", num_ver)"
   ]
  },
  {
   "cell_type": "markdown",
   "metadata": {},
   "source": [
    "## Physics Application\n",
    "\n",
    "Matrices are heavily used in different fields of physics, especially in the realm of Quantum Mechanics. We use matrices in setting up mathematical operators that represent physical observables like position, angular momentum, and energy. Solving for the Time-Independent Schrödinger Equation (TISE) often involves recreating the hamiltonian operator as a matrix where the eigenvalues and eigenvectors of such matrix correspond to the energy levels and wavefunctions, respectively. The ease of using python commands to replicate such methods allows us to simplify the numerically-taxing aspects of massive systems and pave the way for us to focus more refining our theories, and ultimately our understanding of the observable universe."
   ]
  },
  {
   "cell_type": "markdown",
   "metadata": {},
   "source": [
    "\n",
    "\n",
    "### PROBLEM 2\n",
    "\n",
    "**Solve a nonlinear equation using the relaxation method**\n",
    "\n",
    "Consider the equation $x=1- e^{-cx}$, where $c$ is a known parameter and $x$ is unknown. This equation arises in a variety of situations, including the physics of contact processes, mathematical models of epidemics, and the theory of random graphs.\n",
    "\n",
    "1. Write a program to solve this equation for $x$ using the relaxation method for the case $c = 2$. Calculate your solution to an accuracy of at least $10^{-6}$. *(10 pts.)*\n"
   ]
  },
  {
   "cell_type": "markdown",
   "metadata": {},
   "source": [
    "First we reconstruct the relaxation method in a modular way (for more general usability) through the initialization of a function. We set $x$ as the initial guess for the for loop that will iterate the equation into new_x until the desired tolerance (accuracy in terms of sig figs, which in this case is $10^{-6}$ of the solution is achieved"
   ]
  },
  {
   "cell_type": "code",
   "execution_count": 53,
   "metadata": {},
   "outputs": [
    {
     "name": "stdout",
     "output_type": "stream",
     "text": [
      "Part 1: For c=2, the solution is x=0.796813\n"
     ]
    }
   ],
   "source": [
    "import numpy as np\n",
    "\n",
    "def relaxation_method(c, initial_guess=100, tolerance=1e-6, max_iterations=5000):\n",
    "    x = initial_guess\n",
    "    for i in range(max_iterations):\n",
    "        new_x = 1 - np.exp(-c * x)\n",
    "        if np.abs(new_x - x) < tolerance:\n",
    "            return new_x\n",
    "        x = new_x\n",
    "    raise ValueError(\"Relaxation method did not converge within the specified iterations.\")\n",
    "\n",
    "# Part 1: Solve for c=2\n",
    "c_value = 2\n",
    "solution_part1 = relaxation_method(c_value)\n",
    "print(f\"Part 1: For c={c_value}, the solution is x={solution_part1:.6f}\")"
   ]
  },
  {
   "cell_type": "markdown",
   "metadata": {},
   "source": [
    "\n",
    "2. Modify your program to calculate the solution for values of $c$ from 0 to 3 in steps of 0.01. *(10 pts.)*\n",
    "\n",
    "3. Make a plot of $x$ as a function of $c$. Describe the different regimes that you see. *(10 pts.)*"
   ]
  },
  {
   "cell_type": "markdown",
   "metadata": {},
   "source": [
    "Here we initialize another function for part 2 which handles multiple values of c from 0 to 3 and intervals of 0.01, which can be done through the use of the np.arange function and the following parameters."
   ]
  },
  {
   "cell_type": "code",
   "execution_count": 83,
   "metadata": {},
   "outputs": [
    {
     "data": {
      "image/png": "[encoded data removed]",
      "text/plain": [
       "<Figure size 576x324 with 1 Axes>"
      ]
     },
     "metadata": {
      "needs_background": "light"
     },
     "output_type": "display_data"
    }
   ],
   "source": [
    "import matplotlib.pyplot as plt\n",
    "\n",
    "def solve_for_multiple_c(start_c, end_c, step_size):\n",
    "    c_values = np.arange(start_c, end_c + step_size, step_size)\n",
    "    solutions = []\n",
    "\n",
    "    for c in c_values:\n",
    "        solution = relaxation_method(c)\n",
    "        solutions.append(solution)\n",
    "\n",
    "    return c_values, solutions\n",
    "\n",
    "# Part 2: Solve for values of c from 0 to 3 in steps of 0.01\n",
    "start_c_value = 0\n",
    "end_c_value = 3\n",
    "step_size_c = 0.01\n",
    "c_values_part2, solutions_part2 = solve_for_multiple_c(start_c_value, end_c_value, step_size_c)\n",
    "\n",
    "# Part 3: Make a plot of x as a function of c (the methods are a bit self-explanatory)\n",
    "plt.figure(figsize=(8, 4.5))\n",
    "plt.plot(c_values_part2, solutions_part2, label='Relaxation Method') #\n",
    "plt.xlabel('c') \n",
    "plt.ylabel('x') \n",
    "plt.title('Solution of x = 1 - e^(-cx) using Relaxation Method')\n",
    "plt.legend()\n",
    "plt.grid(True) \n",
    "plt.show()"
   ]
  },
  {
   "cell_type": "markdown",
   "metadata": {},
   "source": [
    "Through analyzing the graph, we can disect the different types of solutions obtained from employing the relaxation method on the equation $x=1- e^{-cx}$.\n",
    "\n",
    "1. **NO SOLUTION ZONE** - this refers to the values of $c$ that the relaxation method cannot converge a solution to when given a limited number of iterations.\n",
    "2. **SINGLE SOLUTION ZONE** - an example of this would be the $c$ values from 1 to 3, where each value of $c$ converges to exactly 1 solution $x$\n",
    "3. **MULTIPLE SOLUTION ZONE** - examples would be the $c$ values from 0 to 1, where in this case all the $c$ values converge to the same exact solution which is $x = 0$.\n",
    "4. **TRANSITION ZONE** - this refers to the area in which we can notice abrupt changes in the nature of the equation, like $c=1$.\n",
    "\n",
    "The relaxation method is a very useful iterative numerical technique that will helps us understand non-linear equations and gives emphasis on the process in determining the behavior of a particular formula rather than more common and classical 1 is to 1 relation of equations. Despite it's limitations, it provides a unique insight into describing many different complex phenomena in the physical world."
   ]
  },
  {
   "cell_type": "markdown",
   "metadata": {
    "id": "BY5x-mZsYoqG"
   },
   "source": [
    "### PROBLEM 3\n",
    "\n",
    "**Physics Application: Calculating the Lagrange point**\n",
    "\n",
    "_Refer to Exercise 6.16 of the Newman text._ The $L_1$ Lagrange point is the point between the Earth and the Moon at which a satellite will orbit the Earth in perfect synchrony with the Moon, staying always in between the two.\n",
    "\n",
    "Assuming circular orbits, and assuming that the Earth is much more massive than either the Moon or the satellite, the distance $r$ from the center of the Earth to the $L_1$ point satisfies\n",
    "$$ \\begin{equation}\n",
    "\\frac{GM}{r^2} - \\frac{Gm}{(R-r)^2} = \\omega^2 r,\n",
    "\\end{equation} $$\n",
    "where $R$ is the distance from the Earth to the Moon, $M$ and $m$ are the Earth and Moon masses, $G$ is Newton's gravitational constant, and $\\omega$ is the angular velocity of both the Moon and the satellite."
   ]
  },
  {
   "cell_type": "markdown",
   "metadata": {
    "id": "LlDDXIZ46CKU"
   },
   "source": [
    "Use Newton's method to solve for the distance r from the Earth to the $L_1$ point. Compute a solution accurate to at least four significant figures."
   ]
  },
  {
   "cell_type": "markdown",
   "metadata": {},
   "source": [
    "First we lay out all the given constants we're going to use for the equations to better understand the problem."
   ]
  },
  {
   "cell_type": "code",
   "execution_count": 71,
   "metadata": {},
   "outputs": [],
   "source": [
    "M = 5.974e24  # Earth's Mass\n",
    "m = 7.348e22  # Moon's Mass\n",
    "G = 6.674e-11 # Newton's gravitational constant\n",
    "R = 3.844e8   # Distance from the Earth to the Moon\n",
    "ω = 2.662e-6  # Angular velocity of both the Moon and the satellite\n",
    "Lp =3.260e8   # Actual distance from the center of the Earth to the Lagrange point"
   ]
  },
  {
   "cell_type": "markdown",
   "metadata": {},
   "source": [
    "Next we define both the equation and it's first order derivative. "
   ]
  },
  {
   "cell_type": "code",
   "execution_count": 82,
   "metadata": {},
   "outputs": [
    {
     "name": "stdout",
     "output_type": "stream",
     "text": [
      "Iteration count: 5\n",
      "Calculated and Estimated Distance r: 3.26e+08m, which is around 84.82% of the distance to the moon.\n"
     ]
    }
   ],
   "source": [
    "\n",
    "def equation(r): #define equation\n",
    "    return (ω**2)*(r**5) - 2*R*(ω**2)*(r**4) + (ω**2)*(R**2)*(r**3) - ((G*M)-(G*m))*(r**2) + 2*G*M*R*r - G*M*(R**2)\n",
    "\n",
    "def derivative(r): #define derivative\n",
    "    return 5*(ω**2)*(r**4) - 8*R*(ω**2)*(r**3) + 3*(ω**2)*(R**2)*(r**2) - 2*((G*M)-(G*m))*r + 2*G*M*R\n",
    "\n",
    "#Newton-Raphson Algorithm\n",
    "i = 0  #iteration counter\n",
    "r_new = R/2 #initial guess\n",
    "\n",
    "while r_new < Lp: #loop until we get the value nearest to the actual\n",
    "    i = i+1 \n",
    "    r_old = r_new #set the old radius to the new radius\n",
    "    r_new = r_old - f(r_old) / diff(r_old) #Newton-Raphson equation\n",
    "\n",
    "print(f\"Iteration count: {i}\\nCalculated and Estimated Distance r: {r_new:.4g}m, which is around {round(r_new/R*100, 2):.2f}% of the distance to the moon.\")\n"
   ]
  },
  {
   "cell_type": "markdown",
   "metadata": {},
   "source": [
    "Using the equation $\\frac{GM}{r^2} - \\frac{Gm}{(R-r)^2} = \\omega^2 r$, we defined them as a function and its derivative. We then commenced the newton-Raphson algorithm or more popularly known as Newton's method in solving for the distance $r$ from the earth to the $L_1$ lagrange point. We set $R/2$ as our initial guess in this case because starting in the middle would be the easiest educated guess to make. We then created a while loop that will store the value of the previous or old radius into $r_{old}$ while updating the new radius $r_{new}$ using the Newton-Raphson equation $r_{new}=r_{old}-\\frac{f(r_{old})}{f'(r_{old})}$ until it reaches the nearest actual value of the distance true distance $Lp$."
   ]
  },
  {
   "cell_type": "code",
   "execution_count": null,
   "metadata": {},
   "outputs": [],
   "source": []
  }
 ],
 "metadata": {
  "colab": {
   "provenance": [
    {
     "file_id": "1FJlZnhC4nq-8ag5P6s8R5x9AryccJwSV",
     "timestamp": 1598775074680
    }
   ]
  },
  "kernelspec": {
   "display_name": "Python 3 (ipykernel)",
   "language": "python",
   "name": "python3"
  },
  "language_info": {
   "codemirror_mode": {
    "name": "ipython",
    "version": 3
   },
   "file_extension": ".py",
   "mimetype": "text/x-python",
   "name": "python",
   "nbconvert_exporter": "python",
   "pygments_lexer": "ipython3",
   "version": "3.10.9"
  }
 },
 "nbformat": 4,
 "nbformat_minor": 1
}
