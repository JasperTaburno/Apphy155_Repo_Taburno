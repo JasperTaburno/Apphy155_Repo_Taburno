{
 "cells": [
  {
   "cell_type": "markdown",
   "metadata": {
    "id": "G0BcK0H_G1Iu",
    "tags": []
   },
   "source": [
    "# **AP155 Lab Assignment**\n",
    "## Module 1: Integrals and Derivatives\n",
    "\n",
    "_Instructions_: Answer each problem as completely as you can. Discuss **all** your answers as clearly and concisely as possible.\n",
    "\n",
    "_Scoring Criteria_: 50% - *correctness of code*; 50% - *discussion of the code and results*. Maximum score is **100 points**.\n",
    "\n",
    "\n"
   ]
  },
  {
   "cell_type": "markdown",
   "metadata": {
    "id": "PeHZ9kP8JaVR",
    "jp-MarkdownHeadingCollapsed": true,
    "tags": []
   },
   "source": [
    "### Student Information\n",
    "\n",
    "_Full Name (Last Name, First Name)_: \\ Taburno, Jasper Thon\n",
    "_Student No._:\\ 202008096\n",
    "_Section_: HX-3"
   ]
  },
  {
   "cell_type": "markdown",
   "metadata": {
    "id": "Hc183co-J4eI"
   },
   "source": [
    "### Submission Information\n",
    "\n",
    "_Date and Time Submitted (most recent upload)_: October 26, 2023 | 4:02 PM\n",
    "\n",
    "**HONOR PLEDGE** I affirm that I have upheld the highest principles of honesty and integrity in my academic work and that this lab assignment is my own work.\n",
    "\n",
    "**Sign here with your full name:** JASPER THON JADUCANA TABURNO"
   ]
  },
  {
   "cell_type": "markdown",
   "metadata": {
    "id": "X1UGsRpW-eQs"
   },
   "source": [
    "### Grading Information (c/o Lab Instructor)\n",
    "\n",
    "TOTAL SCORE: **XX**/100\n",
    "\n",
    "Score breakdown:\n",
    "* Problem 1 - XX/30\n",
    "* Problem 2 - XX/30\n",
    "* Problem 3 - XX/40\n",
    "\n",
    "_Date and Time Scored (MM/DD/YYYY HH:MM AM/PM):_"
   ]
  },
  {
   "cell_type": "markdown",
   "metadata": {
    "id": "LxWuqiCFMsEh"
   },
   "source": [
    "### PROBLEM 1\n",
    "**Integration using the trapezoidal rule and Simpson's rule**\n",
    "\n",
    "Calculate the integral of the function $ 2x^4 + 3x^2 + 4x + 5$ from $x=0$ to $x=5$.\n",
    "\n",
    "1. Do the numerical calculation using the trapezoidal rule with 10, 100, and 1,000 slices. Describe each step of the calculation clearly and concisely. *(10 pts.)*\n",
    "\n",
    "2. What are the percentage errors of your answers in (1)? *(10 pts.)*\n",
    "\n",
    "3. Repeat the calculation using Simpson's rule with 10, 100, and 1,000 slices. Describe each step of the calculation clearly and concisely. *(5 pts.)*\n",
    "\n",
    "4. What are the percentage errors of your answers in (3)? How do they compare with the results from (1) for the same number of slices? *(5 pts.)*"
   ]
  },
  {
   "cell_type": "markdown",
   "metadata": {
    "id": "hMqWOsbIMoUh",
    "jupyter": {
     "source_hidden": true
    },
    "tags": []
   },
   "source": [
    "INTEGRATION | TRAPEZOIDAL"
   ]
  },
  {
   "cell_type": "code",
   "execution_count": 1,
   "metadata": {},
   "outputs": [
    {
     "name": "stdout",
     "output_type": "stream",
     "text": [
      "1471.4375\n",
      "0.01478448275862069\n"
     ]
    }
   ],
   "source": [
    "\n",
    "#defining the function f(x)\n",
    "def f(x): \n",
    "    return 2*x**4 + 3*x**2 + 4*x + 5 \n",
    "\n",
    "#Initialization\n",
    "N = 10                                #    no. of steps/slices \n",
    "a = 0.0                               #    lower boundary\n",
    "b = 5.0                               #    upper boundary\n",
    "h = (b-a)/N                           #    width of each slice\n",
    "theo = 1450                           #    theoretical value of the integral\n",
    "\n",
    "s = 0.5*f(a) + 0.5*f(b)               #    code form of the integral that represents first and last slice halves.\n",
    "\n",
    "for k in range(1,N):                  #    This for loop accounts forn the summation of all the slices in between-\n",
    "    s += f(a+k*h)                     #    -f(a) and f(b) of the integral.\n",
    "                                                                                   \n",
    "exp = h*s                             #    experimental value of the integral. We multiplied each slice 's' with the- \n",
    "print(exp)                            #    -width of each slice 'h'\n",
    "\n",
    "PercErr = (theo-exp)/theo\n",
    "\n",
    "if PercErr < 0:                       #    if-else code for getting the absolute value (so we can get the magnitude\n",
    "    print(PercErr*(-1))               #    -of the error)\n",
    "    \n",
    "elif PercErr >= 0:\n",
    "    print(PercErr)\n"
   ]
  },
  {
   "cell_type": "code",
   "execution_count": 2,
   "metadata": {},
   "outputs": [
    {
     "name": "stdout",
     "output_type": "stream",
     "text": [
      "1450.2145812500003\n",
      "0.00014798706896569988\n"
     ]
    }
   ],
   "source": [
    "#same code, N = 100\n",
    "def f(x): \n",
    "    return 2*x**4 + 3*x**2 + 4*x + 5 \n",
    "\n",
    "#Initialization\n",
    "N = 100                                \n",
    "a = 0.0                               \n",
    "b = 5.0                               \n",
    "h = (b-a)/N                           \n",
    "theo = 1450                           \n",
    "\n",
    "s = 0.5*f(a) + 0.5*f(b)               \n",
    "\n",
    "for k in range(1,N):                  \n",
    "    s += f(a+k*h)                     \n",
    "                                                                                   \n",
    "exp = h*s                             \n",
    "print(exp)                            \n",
    "\n",
    "PercErr = (theo-exp)/theo\n",
    "\n",
    "if PercErr < 0:                       \n",
    "    print(PercErr*(-1))               \n",
    "    \n",
    "elif PercErr >= 0:\n",
    "    print(PercErr)"
   ]
  },
  {
   "cell_type": "code",
   "execution_count": 3,
   "metadata": {},
   "outputs": [
    {
     "name": "stdout",
     "output_type": "stream",
     "text": [
      "1450.0021458331234\n",
      "1.4798849127240327e-06\n"
     ]
    }
   ],
   "source": [
    "#same code, N = 1000\n",
    "def f(x): \n",
    "    return 2*x**4 + 3*x**2 + 4*x + 5 \n",
    "\n",
    "#Initialization\n",
    "N = 1000                               \n",
    "a = 0.0                               \n",
    "b = 5.0                               \n",
    "h = (b-a)/N                           \n",
    "theo = 1450                           \n",
    "\n",
    "s = 0.5*f(a) + 0.5*f(b)               \n",
    "\n",
    "for k in range(1,N):                  \n",
    "    s += f(a+k*h)                     \n",
    "                                                                                   \n",
    "exp = h*s                             \n",
    "print(exp)                            \n",
    "\n",
    "PercErr = (theo-exp)/theo\n",
    "\n",
    "if PercErr < 0:                       \n",
    "    print(PercErr*(-1))               \n",
    "    \n",
    "elif PercErr >= 0:\n",
    "    print(PercErr)"
   ]
  },
  {
   "cell_type": "markdown",
   "metadata": {},
   "source": [
    "INTEGRATION | Simpson's Rule"
   ]
  },
  {
   "cell_type": "code",
   "execution_count": 4,
   "metadata": {},
   "outputs": [
    {
     "name": "stdout",
     "output_type": "stream",
     "text": [
      "1450.083333333333\n",
      "5.7471264367607015e-05\n"
     ]
    }
   ],
   "source": [
    "#Integration | Simpson's Rule\n",
    "def f(x): \n",
    "    return 2*x**4 + 3*x**2 + 4*x + 5 \n",
    "\n",
    "#Initialization\n",
    "N = 10                                #    no. of steps/slices \n",
    "a = 0.0                               #    lower boundary\n",
    "b = 5.0                               #    upper boundary\n",
    "h = (b-a)/N                           #    width of each slice\n",
    "theo = 1450                           #    theoretical value of the integral\n",
    "\n",
    "s = (h/3)*(f(a) + f(b))               #    code form of the integral that represents each \n",
    "                                      #    slice, where f(a) and f(b) represent the start\n",
    "                                      #    and end respectively\n",
    "    \n",
    "for k in range(1,N):                  #    if-else condition embedded within a for loop that adds 4 times f(a+k*h) \n",
    "    if  k%2 == 1:                     #    to s if k is odd and only 2 times if a is even (in reference to the\n",
    "        s += (4*h/3)*f(a+k*h)         #    integral - accounts for area in between f(a) and f(b))\n",
    "                                         \n",
    "    elif k%2 == 0:\n",
    "        s += (2*h/3)*f(a+k*h)\n",
    "        \n",
    "print(s)                              #    showing the value of the integral. \n",
    "\n",
    "#Percent Error\n",
    "exp = s\n",
    "PercErr = (theo-exp)/theo\n",
    "\n",
    "if PercErr < 0:                       #    if-else code for getting the absolute value (so we can get the magnitude\n",
    "    print(PercErr*(-1))               #    -of the error)\n",
    "    \n",
    "elif PercErr >= 0:\n",
    "    print(PercErr)"
   ]
  },
  {
   "cell_type": "code",
   "execution_count": 5,
   "metadata": {},
   "outputs": [
    {
     "name": "stdout",
     "output_type": "stream",
     "text": [
      "1450.0000083333334\n",
      "5.747126500676226e-09\n"
     ]
    }
   ],
   "source": [
    "#same code, n = 100 slices\n",
    "def f(x): \n",
    "    return 2*x**4 + 3*x**2 + 4*x + 5\n",
    "\n",
    "N = 100\n",
    "a = 0.0\n",
    "b = 5.0\n",
    "h = (b-a)/N\n",
    "theo = 1450\n",
    "\n",
    "s = (h/3)*(f(a) + f(b))\n",
    "\n",
    "for k in range(1,N):\n",
    "    if  k%2 == 1:\n",
    "        s += (4*h/3)*f(a+k*h)\n",
    "               \n",
    "    else:\n",
    "        s += (2*h/3)*f(a+k*h)\n",
    "        \n",
    "print(s)\n",
    "\n",
    "exp = s\n",
    "PercErr = (theo-exp)/theo\n",
    "\n",
    "if PercErr < 0:                       \n",
    "    print(PercErr*(-1))               \n",
    "    \n",
    "elif PercErr >= 0:\n",
    "    print(PercErr)"
   ]
  },
  {
   "cell_type": "code",
   "execution_count": 6,
   "metadata": {},
   "outputs": [
    {
     "name": "stdout",
     "output_type": "stream",
     "text": [
      "1450.0000000008342\n",
      "5.753338035870472e-13\n"
     ]
    }
   ],
   "source": [
    "#same code, n = 1000 slices\n",
    "def f(x): \n",
    "    return 2*x**4 + 3*x**2 + 4*x + 5\n",
    "\n",
    "N = 1000 \n",
    "a = 0.0 \n",
    "b = 5.0\n",
    "h = (b-a)/N \n",
    "theo = 1450\n",
    "\n",
    "s = (h/3)*(f(a) + f(b))\n",
    "\n",
    "for k in range(1,N):\n",
    "    if  k%2 == 1:\n",
    "        s += (4*h/3)*f(a+k*h)\n",
    "               \n",
    "    else:\n",
    "        s += (2*h/3)*f(a+k*h)\n",
    "        \n",
    "print(s)\n",
    "\n",
    "exp = s\n",
    "PercErr = (theo-exp)/theo\n",
    "\n",
    "if PercErr < 0:                       \n",
    "    print(PercErr*(-1))               \n",
    "    \n",
    "elif PercErr >= 0:\n",
    "    print(PercErr)"
   ]
  },
  {
   "cell_type": "markdown",
   "metadata": {
    "id": "m2a6sg90R-NX"
   },
   "source": [
    "### PROBLEM 2\n",
    "\n",
    "**Integration using Gaussian quadrature**\n",
    "\n",
    "Calculate the integral from Problem 1 using the Gaussian quadrature method: $ 2x^4 + 3x^2 + 4x + 5$ from $x=0$ to $x=5$.\n",
    "\n",
    "1. Define the function $\\tt gaussxw$ from Appendix E of the Newman text (and run the cell). *(10 pts.)*\n",
    "\n",
    "2. Calculate the integral using the $\\tt gaussxw$ function in (1) and number of slices $N = 3$. Describe each step in the calculation clearly and concisely. *(20 pts.)*"
   ]
  },
  {
   "cell_type": "markdown",
   "metadata": {},
   "source": [
    "Gaussian quadrature is defined as a numerical method used for approximating the definite integral of a function. It's a way to find the area under a curve or the accumulated effect of a function over a specific range."
   ]
  },
  {
   "cell_type": "code",
   "execution_count": 7,
   "metadata": {
    "id": "YO_PDJ4VIVs5"
   },
   "outputs": [],
   "source": [
    "from numpy import ones,copy,cos,tan,pi,linspace\n",
    "\n",
    "def gaussxw(N):\n",
    "\n",
    "    # Initial approximation to roots of the Legendre polynomial\n",
    "    a = linspace(3,4*N-1,N)/(4*N+2)                               \n",
    "    x = cos(pi*a+1/(8*N*N*tan(a)))                                \n",
    "\n",
    "    # Recall Newton's method to find the roots\n",
    "    epsilon = 1e-15\n",
    "    delta = 1.0\n",
    "    while delta>epsilon:\n",
    "        p0 = ones(N,float)\n",
    "        p1 = copy(x)\n",
    "        for k in range(1,N):\n",
    "            p0,p1 = p1,((2*k+1)*x*p1-k*p0)/(k+1)\n",
    "        dp = (N+1)*(p0-x*p1)/(1-x*x)\n",
    "        dx = p1/dp\n",
    "        x -= dx\n",
    "        delta = max(abs(dx))\n",
    "\n",
    "    # Here we the calculate the weights\n",
    "    w = 2*(N+1)*(N+1)/(N*N*(1-x*x)*dp*dp)\n",
    "    \n",
    "    #return the values\n",
    "    return x,w \n",
    "\n",
    "def gaussxwab(N,a,b):                           \n",
    "    x,w = gaussxw(N)\n",
    "    return 0.5*(b-a)*x+0.5*(b+a),0.5*(b-a)*w"
   ]
  },
  {
   "cell_type": "code",
   "execution_count": 8,
   "metadata": {},
   "outputs": [
    {
     "name": "stdout",
     "output_type": "stream",
     "text": [
      "1450.000000000002\n"
     ]
    }
   ],
   "source": [
    "#Here we define the function in the integral and return its values\n",
    "def f(x):\n",
    "    return 2*x**4 + 3*x**2 + 4*x + 5\n",
    "\n",
    "#Initialization\n",
    "N = 3                         #   Number of sample points\n",
    "a = 0.0                       #   Lower bound\n",
    "b = 5.0                       #   Upper bound\n",
    "\n",
    "#Here we calculate the sample points and weights then apply them to\n",
    "#the desired domain of integration\n",
    "x,w = gaussxw(N)\n",
    "xp = 0.5*(b-a)*x + 0.5*(b+a)  #   This part rescales the points and weights to the domain[a,b]  \n",
    "wp = 0.5*(b-a)*w\n",
    "\n",
    "#Integration part\n",
    "s = 0.0\n",
    "for k in range(N):\n",
    "    s += wp[k]*f(xp[k])       #   This for loop represents the summation\n",
    "                              #   -for the estimate of the integral\n",
    "    \n",
    "print(s)                      #   Showing the integral"
   ]
  },
  {
   "cell_type": "markdown",
   "metadata": {
    "id": "HceOjNu-VfN9"
   },
   "source": [
    "### PROBLEM 3\n",
    "\n",
    "**Physics Application: Anharmonic Oscillator**\n",
    "\n",
    "_Refer to Exercise 5.10 of the Newman text._ Consider an anharmonic oscillator with potential $V(x)$ symmetric about $x = 0$. Let us set our anharmonic oscillator going with amplitude $a$. That is, at $t = 0$ we release it from rest at position $x = a$ and it swings back towards the origin. Then at $t = 0$ we have $dx/dt = 0$ and the equation for its total energy becomes $E = V(a)$, i.e., the total energy of the particle is given in terms of the amplitude.\n",
    "\n",
    "When the particle reaches the origin for the first time, it has gone through one quarter of a period of the oscillator. The period $T$ is given by: $$ T = \\sqrt{8m} \\int_0^a \\frac{dx}{\\sqrt{V(a)-V(x)}}. $$\n",
    "\n",
    "1. Suppose the potential is $V(x) = x^4$ and the mass of the particle is $m = 1$. Write a Python function that calculates the period of the oscillator for given amplitude a using Gaussian quadrature with $N = 20$ points. Describe each step clearly and concisely. *(20 pts.)*\n",
    "\n",
    "2. Use your function to make a graph of the period for amplitudes ranging from $a = 0$ to $a = 2$. Describe the behavior you find and explain these results clearly and concisely. *(20 pts.)*"
   ]
  },
  {
   "cell_type": "code",
   "execution_count": 9,
   "metadata": {
    "id": "p28JF-OQYock"
   },
   "outputs": [
    {
     "name": "stdout",
     "output_type": "stream",
     "text": [
      "Amplitude: 1\n",
      "3.648094084043215\n"
     ]
    }
   ],
   "source": [
    "import math                                                # Import library to use sqrt\n",
    "\n",
    "def f(x,b):                                                # Here we define the function within the integral\n",
    "    return math.sqrt(8*m) / math.sqrt(b**4 - x**4) \n",
    "\n",
    "#Here we ask the user to input their desired amplitude and store it\n",
    "# in the variable Amp. We also formatted it into a float (since it- \n",
    "# originally was a string) so we can use it in gaussxw later.\n",
    "\n",
    "Amp = float(input(\"Amplitude: \"))\n",
    "\n",
    "#Initialization\n",
    "N = 20                                 #  number of points\n",
    "m = 1                                  #  mass of particle\n",
    "b = Amp \n",
    "a = 0\n",
    "\n",
    "x,w = gaussxw(N)                       #  We call on the gaussxw function from one of the previous cells\n",
    "xp = 0.5*(b-a)*x + 0.5*(b+a)           #  Similar to the previous explanation, here we are rescaling \n",
    "wp = 0.5*(b-a)*w                       #  -the points and weights to the given domain[a,b]\n",
    "\n",
    "s = 0.0                                #  Initialization\n",
    "for k in range(N):                     #  Here since we're using 2 variables in the function f(x,b)\n",
    "    s += wp[k]*f(xp[k], b)             #  The argument contains 2 as well: xp[k] and b\n",
    "    \n",
    "print(s)"
   ]
  },
  {
   "cell_type": "code",
   "execution_count": 10,
   "metadata": {},
   "outputs": [
    {
     "data": {
      "image/png": "[encoded data removed]",
      "text/plain": [
       "<Figure size 432x288 with 1 Axes>"
      ]
     },
     "metadata": {
      "needs_background": "light"
     },
     "output_type": "display_data"
    }
   ],
   "source": [
    "import numpy as np                         #  Importing the necessary libraries\n",
    "import matplotlib.pyplot as plt\n",
    "myList = [0,0]\n",
    "\n",
    "Amps = np.linspace(0.1,2,N+1)              #  We create the amps linspace that ranges from 0.1 \n",
    "result = []                                #  (initial argument is 0.1 to avoid float division by zero) \n",
    "                                           #  to 2, equally separated by a value of N\n",
    "\n",
    "for b in Amps:                             #  This for loop calls upon the input amplitude value in b to run through         \n",
    "    x,w = gaussxw(N)                       #  the values of the Amps array and performs the gaussxw function on each\n",
    "    xp = 0.5*(b-a)*x + 0.5*(b+a)           #  iteration      \n",
    "    wp = 0.5*(b-a)*w\n",
    "\n",
    "    s = 0.0                                #  We ultimately loop the value of s to get the estimated sum of the\n",
    "    for k in range(N):                     #  definite integral\n",
    "        s += wp[k]*f(xp[k], b)             \n",
    "    \n",
    "    result.append(s)\n",
    "\n",
    "#Graphing part, here we use the power of the matplotlib library to call upon the plot method\n",
    "#to plot the arguments results (Period) and amps (Amplitude) into x and y, respectively\n",
    "\n",
    "plt.plot(result, Amps)\n",
    "plt.xlabel(\"Period (T)\")                   #  Label of x-axis\n",
    "plt.ylabel(\"Amplitude (A)\")                #  label of y-axis\n",
    "plt.show()                                 #  Showing the graph\n",
    "\n",
    "\n",
    "    "
   ]
  },
  {
   "cell_type": "code",
   "execution_count": null,
   "metadata": {},
   "outputs": [],
   "source": []
  }
 ],
 "metadata": {
  "colab": {
   "provenance": []
  },
  "kernelspec": {
   "display_name": "Python 3 (ipykernel)",
   "language": "python",
   "name": "python3"
  },
  "language_info": {
   "codemirror_mode": {
    "name": "ipython",
    "version": 3
   },
   "file_extension": ".py",
   "mimetype": "text/x-python",
   "name": "python",
   "nbconvert_exporter": "python",
   "pygments_lexer": "ipython3",
   "version": "3.9.12"
  }
 },
 "nbformat": 4,
 "nbformat_minor": 4
}
